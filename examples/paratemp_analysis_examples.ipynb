{
 "cells": [
  {
   "cell_type": "markdown",
   "metadata": {},
   "source": [
    "# Imports and such"
   ]
  },
  {
   "cell_type": "code",
   "execution_count": 4,
   "metadata": {},
   "outputs": [],
   "source": [
    "import collections\n",
    "import errno\n",
    "import sys, os, re, subprocess, glob\n",
    "import time\n",
    "import matplotlib.pyplot as plt\n",
    "import MDAnalysis\n",
    "import MDAnalysis.analysis\n",
    "import MDAnalysis.analysis.rdf\n",
    "import numpy as np\n",
    "import pandas as pd\n",
    "import six\n",
    "from importlib import reload\n",
    "\n",
    "import paratemp.coordinate_analysis as ca\n",
    "import paratemp as pt\n",
    "from paratemp.re_universe import REUniverse\n",
    "import thtools\n",
    "from thtools import cd, merge_two_dicts\n",
    "from thtools import save_obj, load_obj, make_obj_dir"
   ]
  },
  {
   "cell_type": "code",
   "execution_count": 5,
   "metadata": {},
   "outputs": [
    {
     "data": {
      "text/plain": [
       "<module 'thtools' from '/usr3/graduate/theavey/.local/lib/python3.6/site-packages/thtools/__init__.py'>"
      ]
     },
     "execution_count": 5,
     "metadata": {},
     "output_type": "execute_result"
    }
   ],
   "source": [
    "reload(ca)\n",
    "reload(pt)\n",
    "reload(thtools)"
   ]
  },
  {
   "cell_type": "markdown",
   "metadata": {},
   "source": [
    "# Parse distances from PLUMED input"
   ]
  },
  {
   "cell_type": "code",
   "execution_count": null,
   "metadata": {},
   "outputs": [],
   "source": [
    "def parse_plumed_dists(p_plumed, verbose=True):\n",
    "    \"\"\"\n",
    "    Read a plumed input and return dict of defined dists\n",
    "    \n",
    "    Note, this returns 1-based indexes for the atoms which is what\n",
    "    MDAnalysis will need and what PLUMED/GROMACS use, but it is\n",
    "    different than VMD (and Python, generally).\"\"\"\n",
    "    with open(p_plumed, 'r') as f_plumed:\n",
    "        init_lines = f_plumed.readlines()\n",
    "    lines = []\n",
    "    for line in init_lines:\n",
    "        lines.append(line.split('#')[0])\n",
    "    dists = dict()\n",
    "    for line in lines:\n",
    "        if 'DISTANCE' in line:\n",
    "            m = re.search(r'(\\S+):.+ATOMS=(\\d+),(\\d+)', line)\n",
    "            if m:\n",
    "                n, a1, a2 = m.groups()\n",
    "                dists[n] = (int(a1), int(a2))\n",
    "            else:\n",
    "                n = re.search(r'(\\S+):.+', line).group(1)\n",
    "                if verbose:\n",
    "                    print('Unable to define atoms '\n",
    "                          'for distance: {}'.format(n))\n",
    "    return dists"
   ]
  },
  {
   "cell_type": "markdown",
   "metadata": {},
   "source": [
    "# Create dicts of files, folders, and distances"
   ]
  },
  {
   "cell_type": "markdown",
   "metadata": {},
   "source": [
    "## Using `parse_plumed_dists` for a single set of simulations"
   ]
  },
  {
   "cell_type": "code",
   "execution_count": null,
   "metadata": {},
   "outputs": [],
   "source": [
    "l_configs = ['MaEn', \n",
    "             'MaEx', \n",
    "             'MiEn', \n",
    "             'MiEx']\n",
    "dp_configs = dict()\n",
    "for c in l_configs:\n",
    "    dp_configs[c] = os.path.abspath(\n",
    "        os.path.join('PTAD-cinnamate/', c))\n",
    "\n",
    "p_gro = os.path.abspath('PTAD-cinnamate/MaEn/tad-MaEn-solutes.gro')\n",
    "\n",
    "d_temp = parse_plumed_dists('PTAD-cinnamate/MaEn/plumed-cin-ptad-MaEn.dat')\n",
    "d_metad_dists = {'CV1': d_temp['dm1'], 'CV2': d_temp['dm2']}\n",
    "del(d_temp)\n",
    "d_ox_dists = {'O-O': [69, 71], 'O(l)-Cy': [69, 75], 'O(r)-Cy': [71, 75]}"
   ]
  },
  {
   "cell_type": "markdown",
   "metadata": {},
   "source": [
    "## For multiple simulations"
   ]
  },
  {
   "cell_type": "code",
   "execution_count": null,
   "metadata": {},
   "outputs": [],
   "source": [
    "dp_catff = dict(phen_cg='CGenFF-3-body/PT/PTAD-cinnamate/',\n",
    "                phen_ga='repeat-juanma-w-pt/tad-cinnamate/',\n",
    "                naph_ga='repeat-juanma-w-pt/ntad-cinnamate/')\n",
    "dp_l_configs = dict(MaEn='major-endo',\n",
    "                    MaEx='major-exo',\n",
    "                    MiEn='minor-endo',\n",
    "                    MiEx='minor-exo')\n",
    "dp_s_configs = dict(MaEn='MaEn',\n",
    "                    MaEx='MaEx',\n",
    "                    MiEn='MiEn',\n",
    "                    MiEx='MiEx')\n",
    "dd_configs = dict(phen_cg=dp_s_configs,\n",
    "                  phen_ga=append_to_keys(dp_l_configs, '13-3htmf-etc/05'),\n",
    "                  naph_ga=append_to_keys(dp_l_configs, '02-PT'))\n",
    "dp_gros = dict(phen_cg='/projectnb/nonadmd/theavey/CGenFF-3-body/PT/PTAD-cinnamate/MaEn/tad-MaEn-solutes.gro',\n",
    "               phen_ga=os.path.abspath('repeat-juanma-w-pt/tad-cinnamate/solutes.gro'),\n",
    "               naph_ga=os.path.abspath('repeat-juanma-w-pt/ntad-cinnamate/ntad-cinnamate.gro'))\n",
    "dd_cv_def = dict(naph_ga={'O-O': [53, 29], 'O(l)-dm': [53, 4], 'O(r)-dm': [29, 4], 'CV1':[129,53], 'CV2':[102,68]})"
   ]
  },
  {
   "cell_type": "markdown",
   "metadata": {},
   "source": [
    "# Create REUniverses and calculate some dists"
   ]
  },
  {
   "cell_type": "markdown",
   "metadata": {},
   "source": [
    "## Just import the Universes and `read_data`"
   ]
  },
  {
   "cell_type": "code",
   "execution_count": null,
   "metadata": {},
   "outputs": [],
   "source": [
    "d_reus = dict()\n",
    "for config in dp_configs:\n",
    "    reu = REUniverse(p_gro, dp_configs[config], traj_glob='npt*xtc')\n",
    "    d_reus[config] = reu\n",
    "    for u in reu:\n",
    "        u.read_data()"
   ]
  },
  {
   "cell_type": "markdown",
   "metadata": {},
   "source": [
    "## Import and calculate distances if necessary"
   ]
  },
  {
   "cell_type": "markdown",
   "metadata": {},
   "source": [
    "Could also be done by `read`, `calc`, `save` because it now will not do any unnecessary steps"
   ]
  },
  {
   "cell_type": "code",
   "execution_count": null,
   "metadata": {},
   "outputs": [],
   "source": [
    "d_reus = dict()\n",
    "\n",
    "for catff in dp_catff:\n",
    "    dp_configs = dd_configs[catff]\n",
    "    top = dp_gros[catff]\n",
    "    for config in dp_configs:\n",
    "        key = f'{catff}_{config}'\n",
    "        bf = os.path.join(dp_catff[catff], dp_configs[config])\n",
    "        reu = REUniverse(top, bf, traj_glob='npt*.xtc')\n",
    "        for u in reu:\n",
    "            try:\n",
    "                u.read_data()\n",
    "            except OSError:\n",
    "                d_cv_def = dd_cv_def[catff]\n",
    "                u.calculate_distances(**d_cv_def)\n",
    "                u.save_data()\n",
    "        d_reus[key] = reu"
   ]
  },
  {
   "cell_type": "markdown",
   "metadata": {},
   "source": [
    "# Plotting"
   ]
  },
  {
   "cell_type": "markdown",
   "metadata": {},
   "source": [
    "## Simple 1D FESs for Universes in an REUniverse"
   ]
  },
  {
   "cell_type": "code",
   "execution_count": null,
   "metadata": {},
   "outputs": [],
   "source": [
    "figs = []\n",
    "for u in reu:\n",
    "    fig = u.fes_1d('O-O', bins=15, linewidth=2)[3]\n",
    "    figs.append(fig)"
   ]
  },
  {
   "cell_type": "markdown",
   "metadata": {},
   "source": [
    "## Simple 2D FESs for Universes in an REUniverse"
   ]
  },
  {
   "cell_type": "code",
   "execution_count": null,
   "metadata": {},
   "outputs": [],
   "source": [
    "figs = []\n",
    "for u in reu:\n",
    "    fig, ax = u.fes_2d(x='CV1', y='CV2', \n",
    "                       xlabel='CV 1', ylabel='CV 2')[3:5]"
   ]
  },
  {
   "cell_type": "markdown",
   "metadata": {},
   "source": [
    "## Using `ca.fes_array_3_legend`"
   ]
  },
  {
   "cell_type": "code",
   "execution_count": null,
   "metadata": {},
   "outputs": [],
   "source": [
    "x_lims = np.zeros([64, 2])\n",
    "j = 0\n",
    "for config in d_ptus:\n",
    "    for i, u in enumerate(d_ptus[config]):\n",
    "        u.figs = dict()\n",
    "        u.read_data(ignore_no_data=True)\n",
    "        fig, axes = ca.fes_array_3_legend(u.data, temp=u.temperature, \n",
    "                                          labels=('O-O', 'O(l)-Cy', 'O(r)-Cy'),\n",
    "                                          bins=15, linewidth=2.0)[3:]\n",
    "        ax = axes.flat[0]\n",
    "        if ax.get_ylim()[1] > 10:\n",
    "            for ax in axes.flat[:3]:\n",
    "                ax.set_ylim((-0.5, 7))\n",
    "        fig.tight_layout(rect=[0, 0, 1, 0.95])\n",
    "        fig.suptitle('{} {:.0f} K'.format(config, u.temperature))\n",
    "        u.figs['fes_ox_dists_bins'] = fig\n",
    "        x_lims[j] = ax.get_xlim()\n",
    "        j += 1"
   ]
  },
  {
   "cell_type": "markdown",
   "metadata": {},
   "source": [
    "## Radial distributions"
   ]
  },
  {
   "cell_type": "markdown",
   "metadata": {},
   "source": [
    "### Calculate radial distributions"
   ]
  },
  {
   "cell_type": "code",
   "execution_count": null,
   "metadata": {},
   "outputs": [],
   "source": [
    "name_gro = p_gro\n",
    "\n",
    "name_gro = os.path.abspath(name_gro)\n",
    "\n",
    "fig, ax = plt.subplots()\n",
    "\n",
    "bins_CV_Os = {}\n",
    "rdfs_CV_Os = {}\n",
    "\n",
    "for key in sorted(dp_configs):\n",
    "# for key in ['MiEx']:\n",
    "    with cd(dp_configs[key]):\n",
    "        i = 0\n",
    "        print 'Now starting on {} {}...'.format(key, i)\n",
    "        univ = d_reus[key][i]\n",
    "        final_time = univ.final_time_str\n",
    "        file_name_end = '-PT-phen-cg-{}-{}-{}.pdf'.format(key, i, final_time)\n",
    "        \n",
    "        reactant_CV_Os = univ.select_atoms('(resname is 3htmf) and (name is O1 or name is O2)')\n",
    "        catalyst_CV_Os = univ.select_atoms('(resname is TAD or resname is tad) and (name is O1 or name is OH)')\n",
    "        \n",
    "        rcrdf = MDAnalysis.analysis.rdf.InterRDF(\n",
    "            reactant_CV_Os, catalyst_CV_Os, range=(2.0, 12.0))\n",
    "        rcrdf.run()\n",
    "        \n",
    "        print rcrdf.count\n",
    "        \n",
    "        bins_CV_Os[key] = rcrdf.bins\n",
    "        rdfs_CV_Os[key] = rcrdf.rdf\n",
    "        \n",
    "        ax.plot(rcrdf.bins, rcrdf.rdf, label=key)\n",
    "\n",
    "ax.legend()\n",
    "fig"
   ]
  },
  {
   "cell_type": "markdown",
   "metadata": {},
   "source": [
    "### Make FES from radial distributions"
   ]
  },
  {
   "cell_type": "code",
   "execution_count": null,
   "metadata": {},
   "outputs": [],
   "source": [
    "r = 0.0019872\n",
    "temp = univ.temperature\n",
    "\n",
    "g_CV_Os = {}\n",
    "for key in rdfs_CV_Os:\n",
    "    rdfs = rdfs_CV_Os[key]\n",
    "    g_CV_Os[key] = - r * temp * np.log(rdfs + 1e-40)\n",
    "min_g = min([min(gs) for gs in g_CV_Os.values()])\n",
    "for key in g_CV_Os:\n",
    "    g_CV_Os[key] = g_CV_Os[key] - min_g\n",
    "\n",
    "fig, ax = plt.subplots()\n",
    "\n",
    "for key in sorted(g_CV_Os):\n",
    "    ax.plot(bins_CV_Os[key], g_CV_Os[key], label=key)\n",
    "    ax.set_xlim([2.4,9.9])\n",
    "    ax.set_ylim([-0.1,2.7])\n",
    "ax.legend()\n",
    "ax.set_ylabel(r'$\\Delta G$ / (kcal / mol)')\n",
    "ax.set_xlabel('distance / $\\mathrm{\\AA}$')\n",
    "\n",
    "fig"
   ]
  },
  {
   "cell_type": "markdown",
   "metadata": {},
   "source": [
    "## Plot FES from two Universes on the same axes"
   ]
  },
  {
   "cell_type": "code",
   "execution_count": null,
   "metadata": {},
   "outputs": [],
   "source": [
    "x_lims = np.zeros((64, 2))\n",
    "j = 0\n",
    "df_pvn_same = dict()\n",
    "df_figs = df_pvn_same\n",
    "for key in d_reus:\n",
    "    if 'naph' not in key:\n",
    "        continue\n",
    "    config = key[-4:]\n",
    "    reu = d_reus[key]\n",
    "    equiv_ga_reu = d_reus['phen_ga_'+config]\n",
    "    for i, u in enumerate(reu):\n",
    "        fig, ax = plt.subplots(1, 1)\n",
    "        df_figs[f'{config}_{i}'] = fig\n",
    "        u.fes_1d('O-O', \n",
    "                 bins=15, \n",
    "                 ax=ax, linewidth=2, label='naphthyl')\n",
    "        equiv_ga_reu[i].fes_1d('O-O', \n",
    "                               bins=15, \n",
    "                               ax=ax, linewidth=2, label='phenanthryl')\n",
    "        ax.set_xlim((3.24, 5.85))\n",
    "        ax.set_aspect(0.3, adjustable='box-forced')\n",
    "        if ax.get_ylim()[1] > 10:\n",
    "            ax.set_ylim((-0.5, 7))\n",
    "        ax.legend()\n",
    "        fig.tight_layout()\n",
    "        x_lims[j] = ax.get_xlim()\n",
    "        j += 1\n",
    "#         break"
   ]
  },
  {
   "cell_type": "markdown",
   "metadata": {},
   "source": [
    "# Pull out certain frames from a trajectory and save to disk"
   ]
  },
  {
   "cell_type": "code",
   "execution_count": null,
   "metadata": {},
   "outputs": [],
   "source": [
    "# Cutoff values used for frame selection\n",
    "cv1_cuts = [6.5, 9.]\n",
    "cv2_cuts = [1.5, 3.]\n",
    "name_set = 'lCV1-sCV2'  # (partial) name for the file\n",
    "\n",
    "# instantiate the Universe object\n",
    "univ = ca.Taddol('solutes.gro', 'major-endo/13-3htmf-etc/05/pbc-MaEn-0.xtc')\n",
    "# Calculate/read-in the distance data\n",
    "try:\n",
    "    univ.data['CV1']\n",
    "except KeyError:\n",
    "    univ.read_data(filename='major-endo/13-3htmf-etc/05/npt-PT-MaEn-out0.h5')\n",
    "\n",
    "# Create boolean array telling where the cutoffs are satisfied\n",
    "bool_array = ((univ.data['CV1'] > cv1_cuts[0]) & (univ.data['CV1'] < cv1_cuts[1]) \n",
    "              & (univ.data['CV2'] > cv2_cuts[0]) & (univ.data['CV2'] < cv2_cuts[1]))\n",
    "num = len(univ.data[bool_array])\n",
    "print('These cutoffs include {} frames.'.format(num))\n",
    "\n",
    "# Create solute atomselection to not save the solvent to disk\n",
    "solutes = univ.select_atoms('resname is 3HT or resname is CIN or resname is TAD')\n",
    "\n",
    "# write the selected frames into a new trajectory file\n",
    "with mda.Writer('minim-structs-'+name_set+'-rjm-PT-MaEn-0.xtc', \n",
    "                solutes.n_atoms) as W:\n",
    "    for ts in univ.trajectory:\n",
    "        if bool_array[univ.trajectory.frame]:\n",
    "            W.write(solutes)"
   ]
  }
 ],
 "metadata": {
  "kernelspec": {
   "display_name": "Python [conda env:py3.6]",
   "language": "python",
   "name": "conda-env-py3.6-py"
  },
  "language_info": {
   "codemirror_mode": {
    "name": "ipython",
    "version": 3
   },
   "file_extension": ".py",
   "mimetype": "text/x-python",
   "name": "python",
   "nbconvert_exporter": "python",
   "pygments_lexer": "ipython3",
   "version": "3.6.5"
  }
 },
 "nbformat": 4,
 "nbformat_minor": 2
}
