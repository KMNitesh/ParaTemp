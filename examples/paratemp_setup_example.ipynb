{
 "cells": [
  {
   "cell_type": "markdown",
   "metadata": {},
   "source": [
    "# Imports and setup"
   ]
  },
  {
   "cell_type": "markdown",
   "metadata": {},
   "source": [
    "## Imports"
   ]
  },
  {
   "cell_type": "code",
   "execution_count": null,
   "metadata": {},
   "outputs": [],
   "source": [
    "import re, os, sys, shutil\n",
    "import shlex, subprocess\n",
    "import glob\n",
    "import pandas as pd\n",
    "import panedr\n",
    "import numpy as np\n",
    "import MDAnalysis as mda\n",
    "import nglview\n",
    "import matplotlib.pyplot as plt\n",
    "import parmed as pmd\n",
    "import py\n",
    "import scipy\n",
    "from scipy import stats\n",
    "from importlib import reload\n",
    "from thtools import cd\n",
    "from paratemp import copy_no_overwrite\n",
    "from paratemp import geometries as gm\n",
    "from paratemp import coordinate_analysis as ca\n",
    "import paratemp.para_temp_setup as pts\n",
    "import paratemp as pt\n",
    "from gautools import submit_gaussian as subg\n",
    "from gautools.tools import use_gen_template as ugt"
   ]
  },
  {
   "cell_type": "markdown",
   "metadata": {},
   "source": [
    "## Common functions"
   ]
  },
  {
   "cell_type": "code",
   "execution_count": null,
   "metadata": {},
   "outputs": [],
   "source": [
    "def plot_prop_PT(edict, prop):\n",
    "    fig, axes = plt.subplots(4, 4, figsize=(16,16))\n",
    "    for i in range(16):\n",
    "        ax = axes.flat[i]\n",
    "        edict[i][prop].plot(ax=ax)\n",
    "    fig.tight_layout()\n",
    "    return fig, axes"
   ]
  },
  {
   "cell_type": "code",
   "execution_count": null,
   "metadata": {},
   "outputs": [],
   "source": [
    "def plot_e_props(df, labels, nrows=2, ncols=2):\n",
    "    fig, axes = plt.subplots(nrows, ncols, sharex=True)\n",
    "    for label, ax in zip(labels, axes.flat):\n",
    "        df[label].plot(ax=ax)\n",
    "        ax.set_title(label)\n",
    "    fig.tight_layout()\n",
    "    return fig, axes"
   ]
  },
  {
   "cell_type": "code",
   "execution_count": null,
   "metadata": {},
   "outputs": [],
   "source": [
    "def plot_rd(univ):  # rd = reaction distance\n",
    "    univ.calculate_distances(rd=(20,39))\n",
    "    fig, axes = plt.subplots(1, 2, figsize=(12, 4))\n",
    "    univ.data.rd.plot(ax=axes[0])\n",
    "    univ.data.rd.hist(ax=axes[1], grid=False)\n",
    "    print(f'reaction distance mean: {univ.data.rd.mean():.2f} and sd: {univ.data.rd.std():.2f}')\n",
    "    return fig, axes\n",
    "\n",
    "def plot_hist_dist(univ, name, indexes=None):\n",
    "    if indexes is not None:\n",
    "        kwargs = {name: indexes}\n",
    "        univ.calculate_distances(**kwargs)\n",
    "    fig, axes = plt.subplots(1, 2, figsize=(12, 4))\n",
    "    univ.data[name].plot(ax=axes[0])\n",
    "    univ.data[name].hist(ax=axes[1], grid=False)\n",
    "    print(f'{name} distance mean: {univ.data[name].mean():.2f} and sd: {univ.data[name].std():.2f}')"
   ]
  },
  {
   "cell_type": "code",
   "execution_count": null,
   "metadata": {},
   "outputs": [],
   "source": [
    "def get_solvent_count_solvate(proc):\n",
    "    for line in proc.stdout.split('\\n'):\n",
    "        m = re.search(r'(?:atoms\\):\\s+)(\\d+)(?:\\s+residues)', line)\n",
    "        if m:\n",
    "            return int(m.group(1))\n",
    "    else:\n",
    "        raise ValueError('Solvent count not found.')"
   ]
  },
  {
   "cell_type": "code",
   "execution_count": null,
   "metadata": {},
   "outputs": [],
   "source": [
    "def set_solv_count(n_gro, s_count, \n",
    "                   res_name='DCM', prepend='unequal-'):\n",
    "    \"\"\"\n",
    "    Remove solvent residues from the end of a gro file to match s_count\n",
    "    \n",
    "    This assumes all non-solvent molecules are listed in the input gro\n",
    "    file before the solvent residues.\n",
    "    \"\"\"\n",
    "    bak_name = os.path.join(os.path.dirname(n_gro),\n",
    "                            prepend+os.path.basename(n_gro))\n",
    "    copy_no_overwrite(n_gro, bak_name)\n",
    "    with open(n_gro, 'r') as in_gro:\n",
    "        lines = in_gro.readlines()\n",
    "    for line in lines[2:]:\n",
    "        if res_name in line:\n",
    "            non_s_res_count = resid\n",
    "            break\n",
    "        else:\n",
    "            resid = int(line[:5])\n",
    "    res_count = s_count + non_s_res_count\n",
    "    # TODO check reasonability of this number\n",
    "    box = lines.pop()\n",
    "    while True:\n",
    "        line = lines.pop()\n",
    "        if int(line[:5]) > res_count:\n",
    "            continue\n",
    "        elif int(line[:5]) == res_count:\n",
    "            atom_count = line[15:20]\n",
    "            lines.append(line)\n",
    "            break\n",
    "        elif int(line[:5]) < res_count:\n",
    "            raise ValueError(\"Desired res \"\n",
    "                             \"count is larger than \"\n",
    "                             \"line's resid.\\n\" +\n",
    "                             \"res_count: {}\\n\".format(res_count) +\n",
    "                             \"line: {}\".format(line))\n",
    "    lines[1] = atom_count + '\\n'\n",
    "    lines.append(box)\n",
    "    with open(n_gro, 'w') as out_gro:\n",
    "        for line in lines:\n",
    "            out_gro.write(line)"
   ]
  },
  {
   "cell_type": "code",
   "execution_count": null,
   "metadata": {},
   "outputs": [],
   "source": [
    "def get_solv_count_top(n_top, res_name='DCM'):\n",
    "    \"\"\"\n",
    "    Return residue count of specified residue from n_top\"\"\"\n",
    "    with open(n_top, 'r') as in_top:\n",
    "        mol_section = False\n",
    "        for line in in_top:\n",
    "            if line.strip().startswith(';'):\n",
    "                pass\n",
    "            elif not mol_section:\n",
    "                if re.search(r'\\[\\s*molecules\\s*\\]', line, \n",
    "                             flags=re.IGNORECASE):\n",
    "                    mol_section = True\n",
    "            else:\n",
    "                if res_name.lower() in line.lower():\n",
    "                    return int(line.split()[1])\n",
    "\n",
    "def set_solv_count_top(n_top, s_count, \n",
    "                       res_name='DCM', prepend='unequal-'):\n",
    "    \"\"\"\n",
    "    Set count of res_name residues in n_top\n",
    "    \n",
    "    This will make a backup copy of the top file with `prepend`\n",
    "    prepended to the name of the file.\"\"\"\n",
    "    bak_name = os.path.join(os.path.dirname(n_top),\n",
    "                            prepend+os.path.basename(n_top))\n",
    "    copy_no_overwrite(n_top, bak_name)\n",
    "    with open(n_top, 'r') as in_top:\n",
    "        lines = in_top.readlines()\n",
    "    with open(n_top, 'w') as out_top:\n",
    "        mol_section = False\n",
    "        for line in lines:\n",
    "            if line.strip().startswith(';'):\n",
    "                pass\n",
    "            elif not mol_section:\n",
    "                if re.search(r'\\[\\s*molecules\\s*\\]', line, \n",
    "                             flags=re.IGNORECASE):\n",
    "                    mol_section = True\n",
    "            else:\n",
    "                if res_name.lower() in line.lower():\n",
    "                    line = re.sub(r'\\d+', str(s_count), line)\n",
    "            out_top.write(line)"
   ]
  },
  {
   "cell_type": "markdown",
   "metadata": {},
   "source": [
    "# Get charges\n",
    "\n",
    "Calculate RESP charges using Gaussian through [submit_gaussian](https://github.com/theavey/QM-calc-scripts/blob/master/gautools/submit_gaussian.py) for use with GAFF."
   ]
  },
  {
   "cell_type": "code",
   "execution_count": null,
   "metadata": {},
   "outputs": [],
   "source": [
    "d_charge_params = dict(opt='SCF=tight Test Pop=MK iop(6/33=2) iop(6/42=6) iop(6/50=1)', \n",
    "                       func='HF', \n",
    "                       basis='6-31G*', \n",
    "                       footer='\\ng16.gesp\\n\\ng16.gesp\\n\\n')"
   ]
  },
  {
   "cell_type": "code",
   "execution_count": null,
   "metadata": {},
   "outputs": [],
   "source": [
    "l_scripts = []\n",
    "s = subg.write_sub_script('01-charges/TS2.com', \n",
    "                          executable='g16', \n",
    "                          make_xyz='../TS2.pdb', \n",
    "                          make_input=True, \n",
    "                          ugt_dict={'job_name':'GPX TS2 charges', \n",
    "                                    'charg_mult':'+1 1', \n",
    "                                    **d_charge_params})\n",
    "l_scripts.append(s)\n",
    "s = subg.write_sub_script('01-charges/R-NO2-CPA.com', \n",
    "                          executable='g16', \n",
    "                          make_xyz='../R-NO2-CPA.pdb', \n",
    "                          make_input=True, \n",
    "                          ugt_dict={'job_name':'GPX R-NO2-CPA charges', \n",
    "                                    'charg_mult':'-1 1', \n",
    "                                    **d_charge_params})\n",
    "l_scripts.append(s)\n",
    "l_scripts"
   ]
  },
  {
   "cell_type": "code",
   "execution_count": null,
   "metadata": {},
   "outputs": [],
   "source": [
    "subg.submit_scripts(l_scripts, batch=True, submit=True)"
   ]
  },
  {
   "cell_type": "markdown",
   "metadata": {},
   "source": [
    "# Parameterize molecule in GAFF with ANTECHAMBER and ACPYPE\n",
    "\n",
    "Note, ACPYPE was installed from [this repository](https://github.com/alanwilter/acpype), which seems to be from the original author, though maybe not the one who put it [onto pypi](https://github.com/llazzaro/acpype).\n",
    "\n",
    "## For the catalyst:\n",
    "\n",
    "Use antechamber to create mol2 file with Gaussian ESP charges (though wrong atom types and such, for now):\n",
    "\n",
    "    antechamber -i R-NO2-CPA.gesp -fi gesp -o R-NO2-CPA.mol2 -fo mol2\n",
    "\n",
    "Use ACPYPE to use this mol2 file (and it's GESP charges) to generate GROMACS input files:\n",
    "\n",
    "    acpype.py -i R-NO2-CPA.mol2 -b CPA-gesp --net_charge=-1 -o gmx -d -c user\n",
    "    \n",
    "## For the reactant:\n",
    "\n",
    "    antechamber -i TS2.gesp -fi gesp -o TS2.mol2 -fo mol2\n",
    "    acpype.py -i TS2.mol2 -b GPX-ts --net_charge=1 -o gmx -c user\n",
    "   \n",
    "   \n",
    "Then the different molecules can be combined using [ParmEd](https://github.com/ParmEd/ParmEd)."
   ]
  },
  {
   "cell_type": "code",
   "execution_count": null,
   "metadata": {},
   "outputs": [],
   "source": [
    "gpx = pmd.gromacs.GromacsTopologyFile('01-charges/GPX-ts.acpype/GPX-ts_GMX.top', xyz='01-charges/GPX-ts.acpype/GPX-ts_GMX.gro')\n",
    "cpa = pmd.gromacs.GromacsTopologyFile('01-charges/CPA-gesp.acpype/CPA-gesp_GMX.top', xyz='01-charges/CPA-gesp.acpype/CPA-gesp_GMX.gro')"
   ]
  },
  {
   "cell_type": "code",
   "execution_count": null,
   "metadata": {},
   "outputs": [],
   "source": [
    "for res in gpx.residues:\n",
    "    if res.name == 'MOL':\n",
    "        res.name = 'GPX'\n",
    "for res in cpa.residues:\n",
    "    if res.name == 'MOL':\n",
    "        res.name = 'CPA'"
   ]
  },
  {
   "cell_type": "code",
   "execution_count": null,
   "metadata": {},
   "outputs": [],
   "source": [
    "struc_comb = gpx + cpa\n",
    "struc_comb"
   ]
  },
  {
   "cell_type": "code",
   "execution_count": null,
   "metadata": {},
   "outputs": [],
   "source": [
    "struc_comb.write('gpx-cpa-dry.top')"
   ]
  },
  {
   "cell_type": "code",
   "execution_count": null,
   "metadata": {},
   "outputs": [],
   "source": [
    "struc_comb.save('gpx-cpa-dry.gro')"
   ]
  },
  {
   "cell_type": "markdown",
   "metadata": {},
   "source": [
    "## Move molecules\n",
    "\n",
    "In VMD, the molecules were moved so that they were not sitting on top of each other.\n",
    "\n",
    "## Solvate\n",
    "\n",
    "As before, using DCM parameters and solvent box from virtualchemistry.org."
   ]
  },
  {
   "cell_type": "code",
   "execution_count": null,
   "metadata": {},
   "outputs": [],
   "source": [
    "f_dcm = py.path.local('~/GROMACS-basics/DCM-GAFF/')\n",
    "f_solvate = py.path.local('02-solvate/')\n",
    "sep_gro = py.path.local('gpx-cpa-sep.gro')\n",
    "boxed_gro = f_solvate.join('gpx-cpa-boxed.gro')\n",
    "box = '3.5 3.5 3.5'\n",
    "solvent_source = f_dcm.join('dichloromethane-T293.15.gro')\n",
    "solvent_top = f_dcm.join('dichloromethane.top')\n",
    "solv_gro = f_solvate.join('gpx-cpa-dcm.gro')\n",
    "top = py.path.local('../params/gpxTS-cpa-dcm.top')\n",
    "\n",
    "verbose = True\n",
    "solvent_counts, key = dict(), 'GPX'\n",
    "\n",
    "with f_solvate.as_cwd():\n",
    "    ## Make box\n",
    "    cl = shlex.split(f'gmx_mpi editconf -f {sep_gro} ' +\n",
    "                     f'-o {boxed_gro} -box {box}')\n",
    "    proc = subprocess.run(cl, universal_newlines=True,\n",
    "                          stdout=subprocess.PIPE,\n",
    "                          stderr=subprocess.STDOUT)\n",
    "    outputs[key+'_editconf'] = proc.stdout\n",
    "    proc.check_returncode()\n",
    "    \n",
    "    ## Solvate\n",
    "    cl = shlex.split(f'gmx_mpi solvate -cp {boxed_gro} ' +\n",
    "                     f'-cs {solvent_source} -o {solv_gro}')\n",
    "    proc = subprocess.run(cl, universal_newlines=True,\n",
    "                          stdout=subprocess.PIPE,\n",
    "                          stderr=subprocess.STDOUT)\n",
    "    outputs[key+'_solvate'] = proc.stdout\n",
    "    proc.check_returncode()\n",
    "    solvent_counts[key] = get_solvent_count_solvate(proc)\n",
    "    if verbose:\n",
    "        print(f'Solvated system into {solv_gro}')\n",
    "\n",
    "struc_g_c = pmd.load_file('gpx-cpa-dry.top')\n",
    "struc_dcm = pmd.load_file(str(f_dcm.join('dichloromethane.top')))\n",
    "\n",
    "struc_g_c_d = struc_g_c + solvent_counts['GPX'] * struc_dcm\n",
    "struc_g_c_d.save(str(top))"
   ]
  },
  {
   "cell_type": "markdown",
   "metadata": {},
   "source": [
    "## Minimize"
   ]
  },
  {
   "cell_type": "code",
   "execution_count": null,
   "metadata": {},
   "outputs": [],
   "source": [
    "ppl = py.path.local\n",
    "f_min = ppl('03-minimize/')\n",
    "f_g_basics = py.path.local('~/GROMACS-basics/')\n",
    "mdp_min = f_g_basics.join('minim.mdp')\n",
    "tpr_min = f_min.join('min.tpr')\n",
    "deffnm_min = f_min.join('min-out')\n",
    "gro_min = deffnm_min + '.gro'"
   ]
  },
  {
   "cell_type": "code",
   "execution_count": null,
   "metadata": {},
   "outputs": [],
   "source": [
    "with f_min.as_cwd():\n",
    "        \n",
    "    ## Compile tpr\n",
    "    if not tpr_min.exists():\n",
    "        cl = shlex.split(f'gmx_mpi grompp -f {mdp_min} '\n",
    "                         f'-c {solv_gro} '\n",
    "                         f'-p {top} '\n",
    "                         f'-o {tpr_min}')\n",
    "        proc = subprocess.run(cl, universal_newlines=True,\n",
    "                              stdout=subprocess.PIPE,\n",
    "                              stderr=subprocess.STDOUT)\n",
    "        outputs[key+'_grompp_em'] = proc.stdout\n",
    "        proc.check_returncode()\n",
    "        if verbose:\n",
    "            print(f'Compiled em tpr to {tpr_min}')\n",
    "    elif verbose:\n",
    "        print(f'em tpr file already exists ({tpr_min})')\n",
    "\n",
    "    ## Run minimization\n",
    "    if not gro_min.exists():\n",
    "        cl = shlex.split('gmx_mpi mdrun '\n",
    "                         f'-s {tpr_min} '\n",
    "                         f'-deffnm {deffnm_min} ')\n",
    "        proc = subprocess.run(cl, universal_newlines=True,\n",
    "                              stdout=subprocess.PIPE,\n",
    "                              stderr=subprocess.STDOUT)\n",
    "        outputs[key+'_mdrun_em'] = proc.stdout\n",
    "        # TODO Get the potential energy from this output\n",
    "        proc.check_returncode()\n",
    "        if verbose:\n",
    "            print(f'Ran {key} em to make {gro_min}')\n",
    "    elif verbose:\n",
    "        print(f'em output gro already exists (gro_min)')"
   ]
  },
  {
   "cell_type": "markdown",
   "metadata": {},
   "source": [
    "## Equilibrate"
   ]
  },
  {
   "cell_type": "code",
   "execution_count": null,
   "metadata": {},
   "outputs": [],
   "source": [
    "f_equil = ppl('04-equilibrate/')\n",
    "plumed = f_equil.join('plumed.dat')\n",
    "mdp_equil = f_g_basics.join('npt-298.mdp')\n",
    "tpr_equil = f_equil.join('equil.tpr')\n",
    "deffnm_equil = f_equil.join('equil-out')\n",
    "gro_equil = deffnm_equil + '.gro'\n",
    "\n",
    "gro_input = gro_min"
   ]
  },
  {
   "cell_type": "code",
   "execution_count": null,
   "metadata": {},
   "outputs": [],
   "source": [
    "with f_equil.as_cwd():\n",
    "\n",
    "    ## Compile equilibration\n",
    "    if not tpr_equil.exists():\n",
    "        cl = shlex.split(f'gmx_mpi grompp -f {mdp_equil} '\n",
    "                         f'-c {gro_input} '\n",
    "                         f'-p {top} '\n",
    "                         f'-o {tpr_equil}')\n",
    "        proc = subprocess.run(cl, universal_newlines=True,\n",
    "                              stdout=subprocess.PIPE,\n",
    "                              stderr=subprocess.STDOUT)\n",
    "        outputs[key+'_grompp_equil'] = proc.stdout\n",
    "        proc.check_returncode()\n",
    "        if verbose:\n",
    "            print(f'Compiled equil tpr to {tpr_equil}')\n",
    "    elif verbose:\n",
    "        print(f'equil tpr file already exists ({tpr_equil})')\n",
    "\n",
    "    ## Run equilibration\n",
    "    if not gro_equil.exists():\n",
    "        cl = shlex.split('gmx_mpi mdrun '\n",
    "                         f'-s {tpr_equil} '\n",
    "                         f'-deffnm {deffnm_equil} '\n",
    "                         f'-plumed {plumed}')\n",
    "        proc = subprocess.run(cl, universal_newlines=True,\n",
    "                              stdout=subprocess.PIPE,\n",
    "                              stderr=subprocess.STDOUT)\n",
    "        outputs[key+'_mdrun_equil'] = proc.stdout\n",
    "        proc.check_returncode()\n",
    "        if verbose:\n",
    "            print(f'Ran {key} equil to make {gro_equil}')\n",
    "    elif verbose:\n",
    "        print(f'equil output gro already exists (gro_equil)')"
   ]
  },
  {
   "cell_type": "markdown",
   "metadata": {},
   "source": [
    "## Setup and submit parallel tempering (PT)"
   ]
  },
  {
   "cell_type": "code",
   "execution_count": null,
   "metadata": {},
   "outputs": [],
   "source": [
    "f_pt = ppl('05-PT/')\n",
    "template = f_pt.join('template-mdp.txt')\n",
    "index = ppl('index.ndx')\n",
    "sub_templ = f_g_basics.join('sub-template-128.sub')\n",
    "\n",
    "d_sub_templ = dict(tpr_base = 'TOPO/npt',\n",
    "                   deffnm = 'PT-out',\n",
    "                   name = 'GPX-PT',\n",
    "                   plumed = plumed,\n",
    "                  )"
   ]
  },
  {
   "cell_type": "code",
   "execution_count": null,
   "metadata": {},
   "outputs": [],
   "source": [
    "scaling_exponent = 0.025\n",
    "maxwarn = 0\n",
    "start_temp = 298.\n",
    "\n",
    "verbose = True\n",
    "skip_existing = True\n",
    "\n",
    "jobs = []\n",
    "failed_procs = []\n",
    "for key in ['GPX']:\n",
    "    kwargs = {'template': str(template),\n",
    "              'topology': str(top),\n",
    "              'structure': str(gro_equil),\n",
    "              'index': str(index),\n",
    "              'scaling_exponent': scaling_exponent,\n",
    "              'start_temp': start_temp,\n",
    "              'maxwarn': maxwarn}\n",
    "    with f_pt.as_cwd():\n",
    "        try:\n",
    "            os.mkdir('TOPO')\n",
    "        except FileExistsError:\n",
    "            if skip_existing:\n",
    "                print(f'Skipping {key} because it seems to '\n",
    "                      'already be done.\\nMoving on...')\n",
    "                continue\n",
    "        with cd('TOPO'):\n",
    "            print(f'Now in {os.getcwd()}\\nAttempting to compile TPRs...')\n",
    "            pts.compile_tprs(**kwargs)\n",
    "            print('Done compiling. Moving on...')\n",
    "        print(f'Now in {os.getcwd()}\\nWriting submission script...')\n",
    "        with sub_templ.open(mode='r') as templ_f, \\\n",
    "          open('gromacs-start-job.sub', 'w') as sub_s:\n",
    "            [sub_s.write(l.format(**d_sub_templ)) for l in templ_f]\n",
    "        print('Done.\\nNow submitting job...')\n",
    "        cl = ['qsub', 'gromacs-start-job.sub']\n",
    "        proc = subprocess.run(cl, \n",
    "                              stdout=subprocess.PIPE,\n",
    "                              stderr=subprocess.STDOUT,\n",
    "                              universal_newlines=True)\n",
    "        if proc.returncode == 0:\n",
    "            output = proc.stdout\n",
    "            jobs.append(re.search('[0-9].+\\)', output).group(0))\n",
    "            print(output, '\\nDone.\\nMoving to next...')\n",
    "        else:\n",
    "            print('\\n\\n'+5*'!!!---'+'\\n')\n",
    "            print(f'Error with calling qsub on {key}')\n",
    "            print('Command line input was', cl)\n",
    "            print('Check input and try again manually.'\n",
    "                  '\\nMoving to next anyway...')\n",
    "            failed_procs.append(proc)\n",
    "print('-----Done-----\\nSummary of jobs submitted:')\n",
    "for job in jobs:\n",
    "    print(job)"
   ]
  },
  {
   "cell_type": "markdown",
   "metadata": {},
   "source": [
    "The energies from the simulations can be read in as a pandas DataFrame using [panedr](https://github.com/jbarnoud/panedr) and then analyzed or plotted to check on equilibration, convergence, etc."
   ]
  },
  {
   "cell_type": "code",
   "execution_count": null,
   "metadata": {},
   "outputs": [],
   "source": [
    "e_05s = dict()\n",
    "for i in range(16):\n",
    "    e_05s[i] = panedr.edr_to_df(f'05-PT/PT-out{i}.edr')"
   ]
  },
  {
   "cell_type": "code",
   "execution_count": null,
   "metadata": {},
   "outputs": [],
   "source": [
    "fig, axes = plot_prop_PT(e_05s, 'Pressure')"
   ]
  },
  {
   "cell_type": "markdown",
   "metadata": {},
   "source": [
    "# Setup for several systems/molecules at once\n",
    "\n",
    "Working based on what was done above (using some things that were defined up there as well\n",
    "\n",
    "## Get charges"
   ]
  },
  {
   "cell_type": "code",
   "execution_count": null,
   "metadata": {},
   "outputs": [],
   "source": [
    "l_scripts = []\n",
    "s = subg.write_sub_script('01-charges/TS1.com', \n",
    "                          executable='g16', \n",
    "                          make_xyz='../TS1protonated.mol2', \n",
    "                          make_input=True, \n",
    "                          ugt_dict={'job_name':'GPX TS1 charges', \n",
    "                                    'charg_mult':'+1 1', \n",
    "                                    **d_charge_params})\n",
    "l_scripts.append(s)\n",
    "s = subg.write_sub_script('01-charges/TS3.com', \n",
    "                          executable='g16', \n",
    "                          make_xyz='../TS3protonated.mol2', \n",
    "                          make_input=True, \n",
    "                          ugt_dict={'job_name':'GPX TS3 charges', \n",
    "                                    'charg_mult':'+1 1', \n",
    "                                    **d_charge_params})\n",
    "l_scripts.append(s)\n",
    "s = subg.write_sub_script('01-charges/anti-cat-yamamoto.com', \n",
    "                          executable='g16', \n",
    "                          make_xyz='../R-Yamamoto-Cat.pdb', \n",
    "                          make_input=True, \n",
    "                          ugt_dict={'job_name':\n",
    "                                    'yamamoto catalyst charges', \n",
    "                                    'charg_mult':'-1 1', \n",
    "                                    **d_charge_params})\n",
    "l_scripts.append(s)\n",
    "l_scripts"
   ]
  },
  {
   "cell_type": "code",
   "execution_count": null,
   "metadata": {},
   "outputs": [],
   "source": [
    "subg.submit_scripts(l_scripts, batch=True, submit=True)"
   ]
  },
  {
   "cell_type": "markdown",
   "metadata": {},
   "source": [
    "Copied over the g16.gesp files and renamed them for each molecule.\n",
    "\n",
    "## Make input files\n",
    "\n",
    "Loaded amber/2016 module (and its dependencies).\n",
    "\n",
    "    antechamber -i TS1.gesp -fi gesp -o TS1.mol2 -fo mol2\n",
    "    acpype.py -i TS1.mol2 -b TS1-gesp --net_charge=1 -o gmx -d -c user\n",
    "    \n",
    "There was a warning for assigning bond types.\n",
    "\n",
    "    antechamber -i TS3.gesp -fi gesp -o TS3.mol2 -fo mol2\n",
    "    acpype.py -i TS3.mol2 -b TS3-gesp --net_charge=1 -o gmx -d -c user\n",
    "\n",
    "Similar warning.\n",
    "\n",
    "    antechamber -i YCP.gesp -fi gesp -o YCP.mol2 -fo mol2\n",
    "    acpype.py -i YCP.mol2 -b YCP-gesp --net_charge=-1 -o gmx -d -c use\n",
    "    \n",
    "No similar warning here."
   ]
  },
  {
   "cell_type": "code",
   "execution_count": null,
   "metadata": {},
   "outputs": [],
   "source": [
    "ts1 = pmd.gromacs.GromacsTopologyFile(\n",
    "    '01-charges/TS1-gesp.acpype/TS1-gesp_GMX.top',\n",
    "    xyz='01-charges/TS1-gesp.acpype/TS1-gesp_GMX.gro')\n",
    "ts3 = pmd.gromacs.GromacsTopologyFile(\n",
    "    '01-charges/TS3-gesp.acpype/TS3-gesp_GMX.top',\n",
    "    xyz='01-charges/TS3-gesp.acpype/TS3-gesp_GMX.gro')\n",
    "ycp = pmd.gromacs.GromacsTopologyFile(\n",
    "    '01-charges/YCP-gesp.acpype/YCP-gesp_GMX.top',\n",
    "    xyz='01-charges/YCP-gesp.acpype/YCP-gesp_GMX.gro')"
   ]
  },
  {
   "cell_type": "code",
   "execution_count": null,
   "metadata": {},
   "outputs": [],
   "source": [
    "for res in ts1.residues:\n",
    "    if res.name == 'MOL':\n",
    "        res.name = 'TS1'\n",
    "for res in ts3.residues:\n",
    "    if res.name == 'MOL':\n",
    "        res.name = 'TS3'\n",
    "for res in ycp.residues:\n",
    "    if res.name == 'MOL':\n",
    "        res.name = 'YCP'"
   ]
  },
  {
   "cell_type": "code",
   "execution_count": null,
   "metadata": {},
   "outputs": [],
   "source": [
    "ts1_en = ts1.copy(pmd.gromacs.GromacsTopologyFile)\n",
    "ts3_en = ts3.copy(pmd.gromacs.GromacsTopologyFile)\n",
    "ts1_en.coordinates = - ts1.coordinates\n",
    "ts3_en.coordinates = - ts3.coordinates"
   ]
  },
  {
   "cell_type": "code",
   "execution_count": null,
   "metadata": {},
   "outputs": [],
   "source": [
    "sys_ts1 = ts1 + ycp\n",
    "sys_ts1_en = ts1_en + ycp\n",
    "sys_ts3 = ts3 + ycp\n",
    "sys_ts3_en = ts3_en + ycp"
   ]
  },
  {
   "cell_type": "code",
   "execution_count": null,
   "metadata": {},
   "outputs": [],
   "source": [
    "sys_ts1.write('ts1-ycp-dry.top')\n",
    "sys_ts3.write('ts3-ycp-dry.top')\n",
    "sys_ts1.save('ts1-ycp-dry.gro')\n",
    "sys_ts1_en.save('ts1_en-ycp-dry.gro')\n",
    "sys_ts3.save('ts3-ycp-dry.gro')\n",
    "sys_ts3_en.save('ts3_en-ycp-dry.gro')"
   ]
  },
  {
   "cell_type": "markdown",
   "metadata": {},
   "source": [
    "## Move molecules\n",
    "\n",
    "I presume I will again need to make the molecules non-overlapping, and that will be done manually in VMD.\n",
    "\n",
    "## Box and solvate"
   ]
  },
  {
   "cell_type": "code",
   "execution_count": null,
   "metadata": {},
   "outputs": [],
   "source": [
    "f_dcm = py.path.local('~/GROMACS-basics/DCM-GAFF/')\n",
    "f_solvate = py.path.local('37-solvate-anti/')\n",
    "box = '3.7 3.7 3.7'\n",
    "solvent_source = f_dcm.join('dichloromethane-T293.15.gro')\n",
    "solvent_top = f_dcm.join('dichloromethane.top')\n",
    "solv_gro = f_solvate.join('gpx-cpa-dcm.gro')\n",
    "ts1_top = ppl('../params/ts1-ycp-dcm.top')\n",
    "ts3_top = ppl('../params/ts3-ycp-dcm.top')\n",
    "\n",
    "l_syss = ['TS1', 'TS1_en', 'TS3', 'TS3_en']\n",
    "\n",
    "verbose = True\n",
    "solvent_counts = dict()\n",
    "for key in l_syss:\n",
    "    sep_gro = ppl(f'{key.lower()}-ycp-dry.gro')\n",
    "    if not sep_gro.exists():\n",
    "        raise FileNotFoundError(f'{sep_gro} does not exist')\n",
    "    boxed_gro = f'{key.lower()}-ycp-box.gro'\n",
    "    solv_gro = f'{key.lower()}-ycp-dcm.gro'\n",
    "    with f_solvate.ensure_dir().as_cwd():\n",
    "        ## Make box\n",
    "        cl = shlex.split(f'gmx_mpi editconf -f {sep_gro} ' +\n",
    "                         f'-o {boxed_gro} -box {box}')\n",
    "        proc = subprocess.run(cl, universal_newlines=True,\n",
    "                              stdout=subprocess.PIPE,\n",
    "                              stderr=subprocess.STDOUT)\n",
    "        outputs[key+'_editconf'] = proc.stdout\n",
    "        proc.check_returncode()\n",
    "\n",
    "        ## Solvate\n",
    "        cl = shlex.split(f'gmx_mpi solvate -cp {boxed_gro} ' +\n",
    "                         f'-cs {solvent_source} -o {solv_gro}')\n",
    "        proc = subprocess.run(cl, universal_newlines=True,\n",
    "                              stdout=subprocess.PIPE,\n",
    "                              stderr=subprocess.STDOUT)\n",
    "        outputs[key+'_solvate'] = proc.stdout\n",
    "        proc.check_returncode()\n",
    "        solvent_counts[key] = get_solvent_count_solvate(proc)\n",
    "        if verbose:\n",
    "            print(f'Solvated system into {solv_gro}')\n",
    "            \n",
    "# min_solv_count = min(solvent_counts.values())\n",
    "min_solv_count = 328  # want to match with syn calculations\n",
    "if min(solvent_counts.values()) < min_solv_count:\n",
    "    raise ValueError('At least one of the structures has <328 DCMs.\\n'\n",
    "                     'Check and/or make the box larger')\n",
    "\n",
    "for key in l_syss:\n",
    "    solv_gro = f'{key.lower()}-ycp-dcm.gro'\n",
    "    with f_solvate.as_cwd():\n",
    "        set_solv_count(solv_gro, min_solv_count)\n",
    "\n",
    "struc_ts1 = pmd.load_file('ts1-ycp-dry.top')\n",
    "struc_ts3 = pmd.load_file('ts3-ycp-dry.top')\n",
    "struc_dcm = pmd.load_file(str(f_dcm.join('dichloromethane.top')))\n",
    "\n",
    "struc_ts1_d = struc_ts1 + min_solv_count * struc_dcm\n",
    "struc_ts1_d.save(str(ts1_top))\n",
    "struc_ts3_d = struc_ts3 + min_solv_count * struc_dcm\n",
    "struc_ts3_d.save(str(ts3_top))"
   ]
  },
  {
   "cell_type": "markdown",
   "metadata": {},
   "source": [
    "## Minimize"
   ]
  },
  {
   "cell_type": "code",
   "execution_count": null,
   "metadata": {},
   "outputs": [],
   "source": [
    "f_min = ppl('38-relax-anti/')\n",
    "f_min.ensure_dir()\n",
    "f_g_basics = py.path.local('~/GROMACS-basics/')\n",
    "mdp_min = f_g_basics.join('minim.mdp')\n",
    "d_tops = dict(TS1=ts1_top, TS1_en=ts1_top, TS3=ts3_top, TS3_en=ts3_top)"
   ]
  },
  {
   "cell_type": "code",
   "execution_count": null,
   "metadata": {},
   "outputs": [],
   "source": [
    "for key in l_syss:\n",
    "    solv_gro = ppl(f'37-solvate-anti/{key.lower()}-ycp-dcm.gro')\n",
    "    tpr_min = f_min.join(f'{key.lower()}-min.tpr')\n",
    "    deffnm_min = f_min.join(f'{key.lower()}-min-out')\n",
    "    gro_min = deffnm_min + '.gro'\n",
    "    top = d_tops[key]\n",
    "    with f_min.as_cwd():\n",
    "        \n",
    "        ## Compile tpr\n",
    "        if not tpr_min.exists():\n",
    "            cl = shlex.split(f'gmx_mpi grompp -f {mdp_min} '\n",
    "                             f'-c {solv_gro} '\n",
    "                             f'-p {top} '\n",
    "                             f'-o {tpr_min}')\n",
    "            proc = subprocess.run(cl, universal_newlines=True,\n",
    "                                  stdout=subprocess.PIPE,\n",
    "                                  stderr=subprocess.STDOUT)\n",
    "            outputs[key+'_grompp_em'] = proc.stdout\n",
    "            proc.check_returncode()\n",
    "            if verbose:\n",
    "                print(f'Compiled em tpr to {tpr_min}')\n",
    "        elif verbose:\n",
    "            print(f'em tpr file already exists ({tpr_min})')\n",
    "\n",
    "        ## Run minimization\n",
    "        if not gro_min.exists():\n",
    "            cl = shlex.split('gmx_mpi mdrun '\n",
    "                             f'-s {tpr_min} '\n",
    "                             f'-deffnm {deffnm_min} ')\n",
    "            proc = subprocess.run(cl, universal_newlines=True,\n",
    "                                  stdout=subprocess.PIPE,\n",
    "                                  stderr=subprocess.STDOUT)\n",
    "            outputs[key+'_mdrun_em'] = proc.stdout\n",
    "            # TODO Get the potential energy from this output\n",
    "            proc.check_returncode()\n",
    "            if verbose:\n",
    "                print(f'Ran {key} em to make {gro_min}')\n",
    "        elif verbose:\n",
    "            print(f'em output gro already exists (gro_min)')"
   ]
  },
  {
   "cell_type": "markdown",
   "metadata": {},
   "source": [
    "Made index file (called index-ycp.ndx) with solutes and solvent groups.\n",
    "\n",
    "## SA equilibration"
   ]
  },
  {
   "cell_type": "code",
   "execution_count": null,
   "metadata": {},
   "outputs": [],
   "source": [
    "f_pt = ppl('38-relax-anti/')\n",
    "template = ppl('33-SA-NPT-rest-no-LINCS/template-mdp.txt')\n",
    "index = ppl('../params/index-ycp.ndx')\n",
    "\n",
    "scaling_exponent = 0.025\n",
    "maxwarn = 0\n",
    "start_temp = 298.\n",
    "nsims = 16\n",
    "\n"
   ]
  },
  {
   "cell_type": "code",
   "execution_count": null,
   "metadata": {},
   "outputs": [],
   "source": [
    "verbose = True\n",
    "skip_existing = True\n",
    "\n",
    "jobs = []\n",
    "failed_procs = []\n",
    "for key in l_syss:\n",
    "    d_sub_templ = dict(\n",
    "        tpr = f'{key.lower()}-TOPO/npt',\n",
    "        deffnm = f'{key.lower()}-SA-out',\n",
    "        name = f'{key.lower()}-SA',\n",
    "        nsims = nsims,\n",
    "        tpn = 16,\n",
    "        cores = 128,\n",
    "        multi = True,\n",
    "        )\n",
    "    gro_equil = f_min.join(f'{key.lower()}-min-out.gro')\n",
    "    top = d_tops[key]\n",
    "    kwargs = {'template': str(template),\n",
    "              'topology': str(top),\n",
    "              'structure': str(gro_equil),\n",
    "              'index': str(index),\n",
    "              'scaling_exponent': scaling_exponent,\n",
    "              'start_temp': start_temp,\n",
    "              'maxwarn': maxwarn,\n",
    "              'number': nsims,\n",
    "              'grompp_exe': 'gmx_mpi grompp'}\n",
    "    with f_pt.as_cwd():\n",
    "        try:\n",
    "            os.mkdir(f'{key.lower()}-TOPO/')\n",
    "        except FileExistsError:\n",
    "            if (os.path.exists(f'{key.lower()}-TOPO/temperatures.dat') and \n",
    "                    skip_existing):\n",
    "                print(f'Skipping {key} because it seems to '\n",
    "                      'already be done.\\nMoving on...')\n",
    "                continue\n",
    "        with cd(f'{key.lower()}-TOPO/'):\n",
    "            print(f'Now in {os.getcwd()}\\nAttempting to compile TPRs...')\n",
    "            pts.compile_tprs(**kwargs)\n",
    "            print('Done compiling. Moving on...')\n",
    "        print(f'Now in {os.getcwd()}\\nWriting submission script...')\n",
    "        lp_sub = pt.sim_setup.make_gromacs_sub_script(\n",
    "            f'gromacs-start-{key}-job.sub', **d_sub_templ)\n",
    "        print('Done.\\nNow submitting job...')\n",
    "        cl = shlex.split(f'qsub {lp_sub}')\n",
    "        proc = subprocess.run(cl, \n",
    "                              stdout=subprocess.PIPE,\n",
    "                              stderr=subprocess.STDOUT,\n",
    "                              universal_newlines=True)\n",
    "        if proc.returncode == 0:\n",
    "            output = proc.stdout\n",
    "            jobs.append(re.search('[0-9].+\\)', output).group(0))\n",
    "            print(output, '\\nDone.\\nMoving to next...')\n",
    "        else:\n",
    "            print('\\n\\n'+5*'!!!---'+'\\n')\n",
    "            print(f'Error with calling qsub on {key}')\n",
    "            print('Command line input was', cl)\n",
    "            print('Check input and try again manually.'\n",
    "                  '\\nMoving to next anyway...')\n",
    "            failed_procs.append(proc)\n",
    "print('-----Done-----\\nSummary of jobs submitted:')\n",
    "for job in jobs:\n",
    "    print(job)"
   ]
  },
  {
   "cell_type": "markdown",
   "metadata": {},
   "source": [
    "!!! Need to check distance on restraint !!!"
   ]
  },
  {
   "cell_type": "markdown",
   "metadata": {},
   "source": [
    "### Check equilibration"
   ]
  },
  {
   "cell_type": "code",
   "execution_count": null,
   "metadata": {},
   "outputs": [],
   "source": [
    "e_38s = dict()\n",
    "for key in l_syss:\n",
    "    deffnm = f'{key.lower()}-SA-out'\n",
    "    e_38s[key] = dict()\n",
    "    d = e_38s[key]\n",
    "    for i in range(16):\n",
    "        d[i] = panedr.edr_to_df(f'38-relax-anti/{deffnm}{i}.edr')"
   ]
  },
  {
   "cell_type": "code",
   "execution_count": null,
   "metadata": {},
   "outputs": [],
   "source": [
    "for key in l_syss:\n",
    "    d = e_38s[key]\n",
    "    fig, axes = plot_prop_PT(d, 'Volume')"
   ]
  },
  {
   "cell_type": "markdown",
   "metadata": {},
   "source": [
    "The volumes seem to look okay. \n",
    "Started high (I did remove some solvents and it hadn't relaxed much), dropped quickly, then seemed to grow appropriately as the temperatures rose.\n",
    "None seems to have boiled."
   ]
  },
  {
   "cell_type": "code",
   "execution_count": null,
   "metadata": {},
   "outputs": [],
   "source": [
    "for key in l_syss:\n",
    "    d = e_38s[key]\n",
    "    fig, ax = plt.subplots()\n",
    "    for key in list(d.keys()):\n",
    "        ax.hist(d[key]['Total Energy'], bins=100)\n",
    "        del d[key]"
   ]
  },
  {
   "cell_type": "code",
   "execution_count": null,
   "metadata": {},
   "outputs": [],
   "source": []
  }
 ],
 "metadata": {
  "kernelspec": {
   "display_name": "Python [conda env:py3.6]",
   "language": "python",
   "name": "conda-env-py3.6-py"
  },
  "language_info": {
   "codemirror_mode": {
    "name": "ipython",
    "version": 3
   },
   "file_extension": ".py",
   "mimetype": "text/x-python",
   "name": "python",
   "nbconvert_exporter": "python",
   "pygments_lexer": "ipython3",
   "version": "3.6.5"
  }
 },
 "nbformat": 4,
 "nbformat_minor": 2
}
