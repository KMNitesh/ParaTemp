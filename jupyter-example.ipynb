{
 "cells": [
  {
   "cell_type": "markdown",
   "metadata": {},
   "source": [
    "# Setup"
   ]
  },
  {
   "cell_type": "code",
   "execution_count": null,
   "metadata": {},
   "outputs": [],
   "source": [
    "%pylab --no-import-all inline\n",
    "import matplotlib as mpl"
   ]
  },
  {
   "cell_type": "markdown",
   "metadata": {},
   "source": [
    "Don't necessarily actually want the figures to be inline (not really necessary here as I really just want to save them)"
   ]
  },
  {
   "cell_type": "code",
   "execution_count": null,
   "metadata": {},
   "outputs": [],
   "source": [
    "import matplotlib.pyplot as plt\n",
    "import matplotlib as mpl\n",
    "import numpy as np"
   ]
  },
  {
   "cell_type": "code",
   "execution_count": null,
   "metadata": {},
   "outputs": [],
   "source": [
    "import paratemp.coordinate_analysis as ca\n",
    "\n",
    "from paratemp import cd\n",
    "import pandas as pd\n",
    "\n",
    "import os\n",
    "\n",
    "import MDAnalysis\n",
    "import MDAnalysis as mda"
   ]
  },
  {
   "cell_type": "code",
   "execution_count": null,
   "metadata": {},
   "outputs": [],
   "source": [
    "configs = {'MaEn': 'major-endo/13-3htmf-etc/05',\n",
    "           'MaEx': 'major-exo/13-3htmf-etc/05',\n",
    "           'MiEn': 'minor-endo/13-3htmf-etc/05',\n",
    "           'MiEx': 'minor-exo/13-3htmf-etc/05'\n",
    "          }"
   ]
  },
  {
   "cell_type": "markdown",
   "metadata": {
    "collapsed": true,
    "heading_collapsed": true
   },
   "source": [
    "# Combined open/closed FESs"
   ]
  },
  {
   "cell_type": "markdown",
   "metadata": {
    "heading_collapsed": true,
    "hidden": true
   },
   "source": [
    "## Production"
   ]
  },
  {
   "cell_type": "code",
   "execution_count": null,
   "metadata": {
    "hidden": true
   },
   "outputs": [],
   "source": [
    "for i in xrange(16):\n",
    "    comb_df = pd.DataFrame(columns=['O-O', 'O(l)-Cy', 'O(r)-Cy'])\n",
    "    if os.path.exists('comb-o-data-{}.h5'.format(i)):\n",
    "        with pd.HDFStore('comb-o-data-{}.h5'.format(i)) as store:\n",
    "            try:\n",
    "                comb_df = store['time_750ns']\n",
    "            except KeyError:\n",
    "                comb_df = store['750ns']\n",
    "    else:\n",
    "        for key in configs:\n",
    "            with cd(configs[key]):\n",
    "                with open('TOPO/temperatures.dat', 'r') as t_file:\n",
    "                    temps = list(t_file.read()[1:-2].split(', '))\n",
    "                temp = float(temps[i])\n",
    "                print 'Now starting on {} {}...'.format(key, i)\n",
    "                univ = ca.Taddol('../../../solutes.gro', \n",
    "                                 'npt-PT-{}-out{}.xtc'.format(key, i))\n",
    "                try:\n",
    "                    univ.read_data()\n",
    "                except IOError:\n",
    "                    save_data = True\n",
    "                    pass\n",
    "                else:\n",
    "                    save_data = False\n",
    "                comb_df = comb_df.append(univ.ox_dists, ignore_index=True)\n",
    "                if save_data:\n",
    "                    univ.save_data()\n",
    "        with pd.HDFStore('comb-o-data-{}.h5'.format(i)) as store:\n",
    "            store['time_750ns'] = comb_df\n",
    "        print('Saved combined data as {}'.format('comb-o-data-{}.h5'.format(i)))\n",
    "    fig = univ.fes_ox_dists(data=comb_df, temp=temp, linewidth=3)\n",
    "    for axes in fig.axes[:3]:\n",
    "        axes.set_ylim[0:8]\n",
    "    fig.savefig('fes-ox-dists-rjm-PT-comb-{}.pdf'.format(i))\n",
    "    plt.close('all')\n",
    "    print('Saved figure as {}'.format('fes-ox-dists-rjm-PT-comb-{}.pdf'.format(i)))\n",
    "    print('Done with temp {:.0f} K ({} of 16).'.format(temp, i+1) \\\n",
    "          ' Moving to next temperature...\\n\\n')"
   ]
  },
  {
   "cell_type": "markdown",
   "metadata": {
    "heading_collapsed": true
   },
   "source": [
    "# Create final figures"
   ]
  },
  {
   "cell_type": "markdown",
   "metadata": {
    "collapsed": true,
    "heading_collapsed": true,
    "hidden": true
   },
   "source": [
    "## Production"
   ]
  },
  {
   "cell_type": "code",
   "execution_count": null,
   "metadata": {
    "hidden": true
   },
   "outputs": [],
   "source": [
    "overwrite = True\n",
    "\n",
    "for key in configs:\n",
    "    with cd(configs[key]):\n",
    "        with open('TOPO/temperatures.dat', 'r') as t_file:\n",
    "            temps = list(t_file.read()[1:-2].split(', '))\n",
    "        univ = ca.Taddol('../../../solutes.gro', \n",
    "                         'npt-PT-{}-out{}.xtc'.format(key, '0'))\n",
    "        final_time = int(univ.data['Time'].iat[-1]/1000)\n",
    "        if final_time >= 1000:\n",
    "            final_time = str(final_time/1000)+'us'\n",
    "        else:\n",
    "            final_time = str(final_time) + 'ns'\n",
    "        if os.path.isfile('fes-ox-dists-rjm-PT-{}-comb-{}.pdf'.format(key, final_time)) or not overwrite:\n",
    "            print('\\nAll of {} seems to be complete, moving on to next config...\\n\\n'.format(key))\n",
    "            continue\n",
    "        fig_fes_cvs, axes_fes_cvs = plt.subplots(4, 4, sharex=True, sharey=True)\n",
    "        fig_fes_cvs_open, axes_fes_cvs_open = plt.subplots(4, 4, sharex=True, sharey=True)\n",
    "        fig_fes_cvs_closed, axes_fes_cvs_closed = plt.subplots(4, 4, sharex=True, sharey=True)\n",
    "        fig_fes_ox_dists, axes_fes_ox_dists = plt.subplots(8, 8, sharex=True, sharey=True)\n",
    "        for i in xrange(16):\n",
    "            print 'Now starting on {} {}...'.format(key, i)\n",
    "            temp = float(temps[i])\n",
    "            univ = ca.Taddol('../../../solutes.gro', \n",
    "                             'npt-PT-{}-out{}.xtc'.format(key, i))\n",
    "            final_time = str(int(univ.data['Time'].iat[-1]/1000))+'ns'\n",
    "            file_name_end = '-rjm-PT-{}-{}-{}.pdf'.format(key, i, final_time)\n",
    "            try:\n",
    "                univ.read_data()\n",
    "            except IOError:\n",
    "                univ.calculate_distances()\n",
    "                univ.save_data()\n",
    "            univ.calc_open_closed()  # This is fast, so doesn't really matter if repeated\n",
    "            print 'Done importing and calculating, making figures...'\n",
    "            \n",
    "            ax = axes_fes_cvs.flat[i]\n",
    "            univ.fes_2d_cvs(temp=temp, display=False, ax=ax)\n",
    "            filename = 'fes-cvs'+file_name_end\n",
    "            if (not os.path.isfile(filename)) or overwrite:\n",
    "                fig = univ.fes_2d_cvs(temp=temp)\n",
    "                fig.savefig(filename)\n",
    "            \n",
    "            if len(univ.data[univ.data['open_TAD']]['CV1']) > 1:\n",
    "                ax = axes_fes_cvs_open.flat[i]\n",
    "                univ.fes_2d_cvs(univ.data[univ.data['open_TAD']]['CV1'], \n",
    "                                univ.data[univ.data['open_TAD']]['CV2'],\n",
    "                                temp=temp, display=False, ax=ax)\n",
    "                filename = 'fes-cvs-open'+file_name_end\n",
    "                if (not os.path.isfile(filename)) or overwrite:\n",
    "                    fig = univ.fes_2d_cvs(univ.data[univ.data['open_TAD']]['CV1'], \n",
    "                                          univ.data[univ.data['open_TAD']]['CV2'],\n",
    "                                          temp=temp)\n",
    "                    fig.savefig(filename)\n",
    "            else:\n",
    "                print '\\n\\n!!!! Not enough data to plot for open ' \\\n",
    "                      '{} {} !!!!\\n\\n'.format(key, i)\n",
    "            \n",
    "            if len(univ.data[univ.data['closed_TAD']]['CV1']) > 1:\n",
    "                ax = axes_fes_cvs_closed.flat[i]\n",
    "                univ.fes_2d_cvs(univ.data[univ.data['closed_TAD']]['CV1'], \n",
    "                                univ.data[univ.data['closed_TAD']]['CV2'],\n",
    "                                temp=temp, display=False, ax=ax)\n",
    "                filename = 'fes-cvs-closed'+file_name_end\n",
    "                if (not os.path.isfile(filename)) or overwrite:\n",
    "                    fig = univ.fes_2d_cvs(univ.data[univ.data['closed_TAD']]['CV1'], \n",
    "                                          univ.data[univ.data['closed_TAD']]['CV2'],\n",
    "                                          temp=temp)\n",
    "                    fig.savefig(filename)\n",
    "            else:\n",
    "                print '\\n\\n!!!! Not enough data to plot for closed ' \\\n",
    "                      '{} {} !!!!\\n\\n'.format(key, i)\n",
    "            \n",
    "            axes = axes_fes_ox_dists.flat[4*i:4*i+4]\n",
    "            univ.fes_ox_dists(temp=temp, save=False, display=False, linewidth=3,\n",
    "                              axes=axes)\n",
    "            filename = 'fes-ox-dists'+file_name_end\n",
    "            if (not os.path.isfile(filename)) or overwrite:\n",
    "                fig = univ.fes_ox_dists(temp=temp, save=False, display=True, \n",
    "                                        linewidth=3)\n",
    "                fig.savefig(filename)\n",
    "            print('Done making and saving figures for '\n",
    "                  '{} {}, closing and moving on...'.format(key, i))\n",
    "        for axes in axes_fes_cvs[0:3]:\n",
    "            for ax in axes:\n",
    "                ax.set_xlabel('')\n",
    "        for axes in axes_fes_cvs[:,1:]:\n",
    "            for ax in axes:\n",
    "                ax.set_ylabel('')\n",
    "        fig_fes_cvs.tight_layout()\n",
    "        for axes in axes_fes_cvs_open[0:3]:\n",
    "            for ax in axes:\n",
    "                ax.set_xlabel('')\n",
    "        for axes in axes_fes_cvs_open[:,1:]:\n",
    "            for ax in axes:\n",
    "                ax.set_ylabel('')\n",
    "        fig_fes_cvs_open.tight_layout()\n",
    "        for axes in axes_fes_cvs_closed[0:3]:\n",
    "            for ax in axes:\n",
    "                ax.set_xlabel('')\n",
    "        for axes in axes_fes_cvs_closed[:,1:]:\n",
    "            for ax in axes:\n",
    "                ax.set_ylabel('')\n",
    "        fig_fes_cvs_closed.tight_layout()\n",
    "        print '\\n\\n---Done with all {}, moving to next config'.format(key)\n",
    "        plt.close('all')"
   ]
  },
  {
   "cell_type": "markdown",
   "metadata": {
    "heading_collapsed": true,
    "hidden": true
   },
   "source": [
    "## Combined Ox FESs Production"
   ]
  },
  {
   "cell_type": "code",
   "execution_count": null,
   "metadata": {
    "hidden": true
   },
   "outputs": [],
   "source": [
    "for i in xrange(16):\n",
    "    comb_df = pd.DataFrame(columns=['O-O', 'O(l)-Cy', 'O(r)-Cy'])\n",
    "    if os.path.exists('comb-o-data-{}.h5'.format(i)):\n",
    "        with pd.HDFStore('comb-o-data-{}.h5'.format(i)) as store:\n",
    "            comb_df = store['time_1us']\n",
    "    else:\n",
    "        for key in configs:\n",
    "            with cd(configs[key]):\n",
    "                with open('TOPO/temperatures.dat', 'r') as t_file:\n",
    "                    temps = list(t_file.read()[1:-2].split(', '))\n",
    "                temp = float(temps[i])\n",
    "                print 'Now starting on {} {}...'.format(key, i)\n",
    "                univ = ca.Taddol('../../../solutes.gro', \n",
    "                                 'npt-PT-{}-out{}.xtc'.format(key, i))\n",
    "                try:\n",
    "                    univ.read_data()\n",
    "                except IOError:\n",
    "                    save_data = True\n",
    "                    pass\n",
    "                else:\n",
    "                    save_data = False\n",
    "                comb_df = comb_df.append(univ.ox_dists, ignore_index=True)\n",
    "                if save_data:\n",
    "                    univ.save_data()\n",
    "        with pd.HDFStore('comb-o-data-{}.h5'.format(i)) as store:\n",
    "            store['time_1us'] = comb_df\n",
    "        print('Saved combined data as {}'.format('comb-o-data-{}.h5'.format(i)))\n",
    "    fig = univ.fes_ox_dists(data=comb_df, temp=temp, linewidth=3)\n",
    "    for axes in fig.axes[:3]:\n",
    "        axes.set_ylim([0,8])\n",
    "    fig.savefig('fes-ox-dists-rjm-PT-comb-{}.pdf'.format(i))\n",
    "    plt.close('all')\n",
    "    print('Saved figure as {}'.format('fes-ox-dists-rjm-PT-comb-{}.pdf'.format(i)))\n",
    "    print('Done with temp {:.0f} K ({} of 16).'.format(temp, i+1) +\n",
    "          ' Moving to next temperature...\\n\\n')"
   ]
  },
  {
   "cell_type": "markdown",
   "metadata": {
    "collapsed": true,
    "heading_collapsed": true
   },
   "source": [
    "# CV Cut Plots"
   ]
  },
  {
   "cell_type": "markdown",
   "metadata": {
    "heading_collapsed": true,
    "hidden": true
   },
   "source": [
    "## Production"
   ]
  },
  {
   "cell_type": "code",
   "execution_count": null,
   "metadata": {
    "hidden": true
   },
   "outputs": [],
   "source": [
    "r = 0.0019872  # kcal_th/(K mol)\n",
    "\n",
    "for key in configs:\n",
    "    with cd(configs[key]):\n",
    "        i = 0\n",
    "        print 'Now starting on {} {}...'.format(key, i)\n",
    "        univ = ca.Taddol('../../../solutes.gro', \n",
    "                         'npt-PT-{}-out{}.xtc'.format(key, i))\n",
    "        temp = 205\n",
    "        final_time = int(univ.data['Time'].iat[-1]/1000)\n",
    "        if final_time > 1000:\n",
    "            final_time = str(final_time/1000)+'us'\n",
    "        else:\n",
    "            final_time = str(final_time) + 'ns'\n",
    "        file_name_end = '-rjm-PT-{}-{}-{}.pdf'.format(key, i, final_time)\n",
    "        try:\n",
    "            univ.read_data()\n",
    "        except IOError:\n",
    "            univ.calculate_distances()\n",
    "            univ.calc_open_closed()\n",
    "            univ.save_data()\n",
    "        univ.calc_open_closed()\n",
    "\n",
    "        x = univ.data.loc[lambda x: (2.5 < x.CV2) & (x.CV2 < 3.5) & x.closed_TAD]['CV1']\n",
    "        if len(x) > 2:\n",
    "            n, bins = np.histogram(x, bins=20)\n",
    "            n = [float(j) for j in n]\n",
    "            prob = np.array([j / max(n) for j in n]) + 1e-40\n",
    "            delta_g = np.array([-r * temp * np.log(p) for p in prob])\n",
    "            delta_g\n",
    "            fig, ax = plt.subplots()\n",
    "            line, = ax.plot(bins[:-1], delta_g)\n",
    "            ax.set_ylabel(r'$\\Delta G$ / (kcal / mol)')\n",
    "            ax.set_xlabel(r'CV 1 / $\\mathrm{\\AA}$')\n",
    "            fig.tight_layout()\n",
    "            fig.savefig('fes-CV1-closed-shortCV2'+file_name_end)\n",
    "        else:\n",
    "            print('Not enough closed frames for {} {}'.format(key, i))\n",
    "            \n",
    "        x = univ.data.loc[lambda x: (7.5 < x.CV2) & (x.CV2 < 8.5) & x.open_TAD]['CV1']\n",
    "        if len(x) > 2:\n",
    "            n, bins = np.histogram(x, bins=20)\n",
    "            n = [float(j) for j in n]\n",
    "            prob = np.array([j / max(n) for j in n]) + 1e-40\n",
    "            delta_g = np.array([-r * temp * np.log(p) for p in prob])\n",
    "            delta_g\n",
    "            fig, ax = plt.subplots()\n",
    "            line, = ax.plot(bins[:-1], delta_g)\n",
    "            ax.set_ylabel(r'$\\Delta G$ / (kcal / mol)')\n",
    "            ax.set_xlabel(r'CV 1 / $\\mathrm{\\AA}$')\n",
    "            fig.tight_layout()\n",
    "            fig.savefig('fes-CV1-open-longCV2'+file_name_end)\n",
    "        else:\n",
    "            print('Not enough open frames for {} {}'.format(key, i))"
   ]
  },
  {
   "cell_type": "markdown",
   "metadata": {
    "collapsed": true
   },
   "source": [
    "# Select geoms from minima"
   ]
  },
  {
   "cell_type": "markdown",
   "metadata": {
    "heading_collapsed": true
   },
   "source": [
    "## Production"
   ]
  },
  {
   "cell_type": "code",
   "execution_count": null,
   "metadata": {
    "hidden": true
   },
   "outputs": [],
   "source": [
    "cv1_cuts = [6.5, 9.]\n",
    "cv2_cuts = [1.5, 3.]\n",
    "name_set = 'lCV1-sCV2'\n",
    "\n",
    "univ = ca.Taddol('solutes.gro', 'major-endo/13-3htmf-etc/05/pbc-MaEn-0.xtc')\n",
    "try:\n",
    "    univ.data['CV1']\n",
    "except KeyError:\n",
    "    univ.read_data(filename='major-endo/13-3htmf-etc/05/npt-PT-MaEn-out0.h5')\n",
    "\n",
    "bool_array = ((univ.data['CV1'] > cv1_cuts[0]) & (univ.data['CV1'] < cv1_cuts[1]) \n",
    "              & (univ.data['CV2'] > cv2_cuts[0]) & (univ.data['CV2'] < cv2_cuts[1]))\n",
    "num = len(univ.data[bool_array])\n",
    "print('These cutoffs include {} frames.'.format(num))\n",
    "\n",
    "solutes = univ.select_atoms('resname is 3HT or resname is CIN or resname is TAD')\n",
    "\n",
    "with mda.Writer('minim-structs-'+name_set+'-rjm-PT-MaEn-0.xtc', \n",
    "                solutes.n_atoms) as W:\n",
    "    for ts in univ.trajectory:\n",
    "        if bool_array[univ.trajectory.frame]:\n",
    "            W.write(solutes)"
   ]
  },
  {
   "cell_type": "code",
   "execution_count": null,
   "metadata": {
    "hidden": true
   },
   "outputs": [],
   "source": [
    "cv1_cuts = [1.5, 4.]\n",
    "cv2_cuts = [6.75, 8.5]\n",
    "name_set = 'sCV1-lCV2'\n",
    "\n",
    "univ = ca.Taddol('solutes.gro', 'major-endo/13-3htmf-etc/05/pbc-MaEn-0.xtc')\n",
    "try:\n",
    "    univ.data['CV1']\n",
    "except KeyError:\n",
    "    univ.read_data(filename='major-endo/13-3htmf-etc/05/npt-PT-MaEn-out0.h5')\n",
    "\n",
    "bool_array = ((univ.data['CV1'] > cv1_cuts[0]) & (univ.data['CV1'] < cv1_cuts[1]) \n",
    "              & (univ.data['CV2'] > cv2_cuts[0]) & (univ.data['CV2'] < cv2_cuts[1]))\n",
    "num = len(univ.data[bool_array])\n",
    "print('These cutoffs include {} frames.'.format(num))\n",
    "\n",
    "solutes = univ.select_atoms('resname is 3HT or resname is CIN or resname is TAD')\n",
    "\n",
    "with mda.Writer('minim-structs-'+name_set+'-rjm-PT-MaEn-0.xtc', \n",
    "                solutes.n_atoms) as W:\n",
    "    for ts in univ.trajectory:\n",
    "        if bool_array[univ.trajectory.frame]:\n",
    "            W.write(solutes)"
   ]
  },
  {
   "cell_type": "code",
   "execution_count": null,
   "metadata": {
    "hidden": true
   },
   "outputs": [],
   "source": [
    "cv1_cuts = [1.5, 4.]\n",
    "cv2_cuts = [6.75, 8.5]\n",
    "name_set = 'sCV1-lCV2'\n",
    "\n",
    "univ = ca.Taddol('solutes.gro', 'major-exo/13-3htmf-etc/05/pbc-MaEx-0.xtc')\n",
    "try:\n",
    "    univ.data['CV1']\n",
    "except KeyError:\n",
    "    univ.read_data(filename='major-exo/13-3htmf-etc/05/npt-PT-MaEx-out0.h5')\n",
    "\n",
    "bool_array = ((univ.data['CV1'] > cv1_cuts[0]) & (univ.data['CV1'] < cv1_cuts[1]) \n",
    "              & (univ.data['CV2'] > cv2_cuts[0]) & (univ.data['CV2'] < cv2_cuts[1]))\n",
    "num = len(univ.data[bool_array])\n",
    "print('These cutoffs include {} frames.'.format(num))\n",
    "\n",
    "solutes = univ.select_atoms('resname is 3HT or resname is CIN or resname is TAD')\n",
    "\n",
    "with mda.Writer('minim-structs-'+name_set+'-rjm-PT-MaEx-0.xtc', \n",
    "                solutes.n_atoms) as W:\n",
    "    for ts in univ.trajectory:\n",
    "        if bool_array[univ.trajectory.frame]:\n",
    "            W.write(solutes)"
   ]
  },
  {
   "cell_type": "code",
   "execution_count": null,
   "metadata": {
    "hidden": true
   },
   "outputs": [],
   "source": [
    "cv1_cuts = [6.5, 9.]\n",
    "cv2_cuts = [1.5, 3.]\n",
    "name_set = 'lCV1-sCV2'\n",
    "\n",
    "univ = ca.Taddol('solutes.gro', 'major-exo/13-3htmf-etc/05/pbc-MaEx-0.xtc')\n",
    "try:\n",
    "    univ.data['CV1']\n",
    "except KeyError:\n",
    "    univ.read_data(filename='major-exo/13-3htmf-etc/05/npt-PT-MaEx-out0.h5')\n",
    "\n",
    "bool_array = ((univ.data['CV1'] > cv1_cuts[0]) & (univ.data['CV1'] < cv1_cuts[1]) \n",
    "              & (univ.data['CV2'] > cv2_cuts[0]) & (univ.data['CV2'] < cv2_cuts[1]))\n",
    "num = len(univ.data[bool_array])\n",
    "print('These cutoffs include {} frames.'.format(num))\n",
    "\n",
    "solutes = univ.select_atoms('resname is 3HT or resname is CIN or resname is TAD')\n",
    "\n",
    "with mda.Writer('minim-structs-'+name_set+'-rjm-PT-MaEx-0.xtc', \n",
    "                solutes.n_atoms) as W:\n",
    "    for ts in univ.trajectory:\n",
    "        if bool_array[univ.trajectory.frame]:\n",
    "            W.write(solutes)\n",
    "            "
   ]
  }
 ],
 "metadata": {
  "anaconda-cloud": {},
  "kernelspec": {
   "display_name": "Python [conda env:py2]",
   "language": "python",
   "name": "conda-env-py2-py"
  },
  "language_info": {
   "codemirror_mode": {
    "name": "ipython",
    "version": 2
   },
   "file_extension": ".py",
   "mimetype": "text/x-python",
   "name": "python",
   "nbconvert_exporter": "python",
   "pygments_lexer": "ipython2",
   "version": "2.7.14"
  }
 },
 "nbformat": 4,
 "nbformat_minor": 2
}
